{
 "cells": [
  {
   "cell_type": "markdown",
   "metadata": {},
   "source": [
    "### Dyanmic Programming Example\n",
    "SU CS221 Lecture 1 <br>\n",
    "Find the minimum steps to change string 's' to match string 't' using substitution, deletion, and insertion "
   ]
  },
  {
   "cell_type": "code",
   "execution_count": 1,
   "metadata": {},
   "outputs": [],
   "source": [
    "def computed_distance(s, t):\n",
    "\n",
    "    def recurse(m, n):\n",
    "        '''\n",
    "        Return the minimum edit distance between:\n",
    "        - first m letters of s\n",
    "        - first n letters of t\n",
    "        '''\n",
    "        if m == 0:\n",
    "            result = n\n",
    "        elif n == 0:\n",
    "            result = m\n",
    "        elif s[m - 1] == t[n - 1]: # Last letter matches\n",
    "            result = recurse(m - 1, n - 1)\n",
    "        else:\n",
    "            sub_cost = 1 + recurse(m - 1, n - 1)\n",
    "            del_cost = 1 + recurse(m - 1, n)\n",
    "            ins_cost = 1 + recurse(m, n - 1)\n",
    "            result = min(sub_cost, del_cost, ins_cost)\n",
    "        return result\n",
    "    \n",
    "    return recurse(len(s), len(t))"
   ]
  },
  {
   "cell_type": "code",
   "execution_count": 2,
   "metadata": {
    "scrolled": false
   },
   "outputs": [
    {
     "name": "stdout",
     "output_type": "stream",
     "text": [
      "4\n"
     ]
    }
   ],
   "source": [
    "print(computed_distance(\"a cat\", \"the cats\"))"
   ]
  },
  {
   "cell_type": "markdown",
   "metadata": {},
   "source": [
    "With memoization (known as tabling in logic programming)"
   ]
  },
  {
   "cell_type": "code",
   "execution_count": 3,
   "metadata": {},
   "outputs": [],
   "source": [
    "def computed_distance_memoize(s, t):\n",
    "    cache = {} # (m, n) => result\n",
    "    def recurse(m, n):\n",
    "        '''\n",
    "        Return the minimum edit distance between:\n",
    "        - first m letters of s\n",
    "        - first n letters of t\n",
    "        '''\n",
    "        if (m, n) in cache:\n",
    "            return cache[(m, n)]\n",
    "        if m == 0: # base case\n",
    "            result = n\n",
    "        elif n == 0: # base case\n",
    "            result = m\n",
    "        elif s[m - 1] == t[n - 1]: # Last letter matches\n",
    "            result = recurse(m - 1, n - 1)\n",
    "        else:\n",
    "            sub_cost = 1 + recurse(m - 1, n - 1)\n",
    "            del_cost = 1 + recurse(m - 1, n)\n",
    "            ins_cost = 1 + recurse(m, n - 1)\n",
    "            result = min(sub_cost, del_cost, ins_cost)\n",
    "        cache[(m, n)] = result\n",
    "        return result\n",
    "    \n",
    "    return recurse(len(s), len(t))"
   ]
  },
  {
   "cell_type": "code",
   "execution_count": 4,
   "metadata": {},
   "outputs": [
    {
     "name": "stdout",
     "output_type": "stream",
     "text": [
      "40\n"
     ]
    }
   ],
   "source": [
    "print(computed_distance_memoize(\"a cat\" * 10, \"the cats\" * 10))"
   ]
  }
 ],
 "metadata": {
  "kernelspec": {
   "display_name": "Python 3",
   "language": "python",
   "name": "python3"
  },
  "language_info": {
   "codemirror_mode": {
    "name": "ipython",
    "version": 3
   },
   "file_extension": ".py",
   "mimetype": "text/x-python",
   "name": "python",
   "nbconvert_exporter": "python",
   "pygments_lexer": "ipython3",
   "version": "3.7.4"
  }
 },
 "nbformat": 4,
 "nbformat_minor": 2
}
