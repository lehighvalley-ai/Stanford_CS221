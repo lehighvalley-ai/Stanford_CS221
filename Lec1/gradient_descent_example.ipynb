{
 "cells": [
  {
   "cell_type": "markdown",
   "metadata": {},
   "source": [
    "### Gradient Descent Example\n",
    "SU CS221 Lecture 1 <br>\n",
    "Finding the best fit line using gradient descent"
   ]
  },
  {
   "cell_type": "code",
   "execution_count": 1,
   "metadata": {},
   "outputs": [],
   "source": [
    "points = [(2, 4), (4, 2)]"
   ]
  },
  {
   "cell_type": "markdown",
   "metadata": {},
   "source": [
    "Finding the error "
   ]
  },
  {
   "cell_type": "code",
   "execution_count": 2,
   "metadata": {},
   "outputs": [],
   "source": [
    "def F(w):\n",
    "    return sum((w * x - y)**2 for x, y in points)"
   ]
  },
  {
   "cell_type": "markdown",
   "metadata": {},
   "source": [
    "Find the derivative"
   ]
  },
  {
   "cell_type": "code",
   "execution_count": 3,
   "metadata": {},
   "outputs": [],
   "source": [
    "def dF(w):\n",
    "    return sum(2*(w * x - y) * x for x, y in points)"
   ]
  },
  {
   "cell_type": "markdown",
   "metadata": {},
   "source": [
    "Gradient descent"
   ]
  },
  {
   "cell_type": "code",
   "execution_count": 4,
   "metadata": {},
   "outputs": [
    {
     "name": "stdout",
     "output_type": "stream",
     "text": [
      "iteration 0: w = 0.32, F(w) = 20\n",
      "iteration 1: w = 0.512, F(w) = 11.807999999999998\n",
      "iteration 2: w = 0.6272, F(w) = 8.858880000000001\n",
      "iteration 3: w = 0.69632, F(w) = 7.7971968\n",
      "iteration 4: w = 0.737792, F(w) = 7.4149908479999995\n",
      "iteration 5: w = 0.7626752, F(w) = 7.27739670528\n",
      "iteration 6: w = 0.77760512, F(w) = 7.227862813900801\n",
      "iteration 7: w = 0.786563072, F(w) = 7.210030613004288\n",
      "iteration 8: w = 0.7919378432, F(w) = 7.203611020681545\n",
      "iteration 9: w = 0.79516270592, F(w) = 7.201299967445356\n",
      "iteration 10: w = 0.797097623552, F(w) = 7.200467988280327\n",
      "iteration 11: w = 0.7982585741311999, F(w) = 7.200168475780918\n",
      "iteration 12: w = 0.79895514447872, F(w) = 7.200060651281129\n",
      "iteration 13: w = 0.799373086687232, F(w) = 7.200021834461207\n",
      "iteration 14: w = 0.7996238520123392, F(w) = 7.200007860406035\n",
      "iteration 15: w = 0.7997743112074035, F(w) = 7.200002829746172\n",
      "iteration 16: w = 0.799864586724442, F(w) = 7.200001018708621\n",
      "iteration 17: w = 0.7999187520346652, F(w) = 7.200000366735104\n",
      "iteration 18: w = 0.7999512512207991, F(w) = 7.2000001320246385\n",
      "iteration 19: w = 0.7999707507324795, F(w) = 7.200000047528869\n",
      "iteration 20: w = 0.7999824504394877, F(w) = 7.200000017110394\n",
      "iteration 21: w = 0.7999894702636926, F(w) = 7.200000006159741\n",
      "iteration 22: w = 0.7999936821582155, F(w) = 7.200000002217507\n",
      "iteration 23: w = 0.7999962092949293, F(w) = 7.200000000798303\n",
      "iteration 24: w = 0.7999977255769576, F(w) = 7.200000000287389\n",
      "iteration 25: w = 0.7999986353461745, F(w) = 7.200000000103461\n",
      "iteration 26: w = 0.7999991812077047, F(w) = 7.200000000037246\n",
      "iteration 27: w = 0.7999995087246229, F(w) = 7.200000000013408\n",
      "iteration 28: w = 0.7999997052347737, F(w) = 7.2000000000048265\n",
      "iteration 29: w = 0.7999998231408643, F(w) = 7.200000000001737\n",
      "iteration 30: w = 0.7999998938845185, F(w) = 7.2000000000006255\n",
      "iteration 31: w = 0.7999999363307111, F(w) = 7.200000000000226\n",
      "iteration 32: w = 0.7999999617984267, F(w) = 7.200000000000081\n",
      "iteration 33: w = 0.799999977079056, F(w) = 7.200000000000029\n",
      "iteration 34: w = 0.7999999862474336, F(w) = 7.20000000000001\n",
      "iteration 35: w = 0.7999999917484601, F(w) = 7.200000000000004\n",
      "iteration 36: w = 0.799999995049076, F(w) = 7.200000000000001\n",
      "iteration 37: w = 0.7999999970294456, F(w) = 7.199999999999999\n",
      "iteration 38: w = 0.7999999982176673, F(w) = 7.2\n",
      "iteration 39: w = 0.7999999989306004, F(w) = 7.2\n",
      "iteration 40: w = 0.7999999993583602, F(w) = 7.2\n",
      "iteration 41: w = 0.7999999996150161, F(w) = 7.199999999999999\n",
      "iteration 42: w = 0.7999999997690097, F(w) = 7.199999999999999\n",
      "iteration 43: w = 0.7999999998614058, F(w) = 7.2\n",
      "iteration 44: w = 0.7999999999168435, F(w) = 7.2\n",
      "iteration 45: w = 0.7999999999501061, F(w) = 7.199999999999999\n",
      "iteration 46: w = 0.7999999999700637, F(w) = 7.200000000000001\n",
      "iteration 47: w = 0.7999999999820382, F(w) = 7.199999999999999\n",
      "iteration 48: w = 0.7999999999892229, F(w) = 7.2\n",
      "iteration 49: w = 0.7999999999935338, F(w) = 7.2\n",
      "iteration 50: w = 0.7999999999961203, F(w) = 7.199999999999999\n",
      "iteration 51: w = 0.7999999999976721, F(w) = 7.2\n",
      "iteration 52: w = 0.7999999999986033, F(w) = 7.199999999999999\n",
      "iteration 53: w = 0.7999999999991619, F(w) = 7.200000000000001\n",
      "iteration 54: w = 0.7999999999994972, F(w) = 7.200000000000001\n",
      "iteration 55: w = 0.7999999999996984, F(w) = 7.200000000000001\n",
      "iteration 56: w = 0.7999999999998191, F(w) = 7.200000000000001\n",
      "iteration 57: w = 0.7999999999998915, F(w) = 7.2\n",
      "iteration 58: w = 0.7999999999999349, F(w) = 7.199999999999999\n",
      "iteration 59: w = 0.799999999999961, F(w) = 7.199999999999999\n",
      "iteration 60: w = 0.7999999999999766, F(w) = 7.2\n",
      "iteration 61: w = 0.799999999999986, F(w) = 7.199999999999999\n",
      "iteration 62: w = 0.7999999999999916, F(w) = 7.199999999999999\n",
      "iteration 63: w = 0.7999999999999949, F(w) = 7.2\n",
      "iteration 64: w = 0.7999999999999969, F(w) = 7.2\n",
      "iteration 65: w = 0.7999999999999982, F(w) = 7.199999999999999\n",
      "iteration 66: w = 0.7999999999999989, F(w) = 7.200000000000001\n",
      "iteration 67: w = 0.7999999999999994, F(w) = 7.2\n",
      "iteration 68: w = 0.7999999999999996, F(w) = 7.2\n",
      "iteration 69: w = 0.7999999999999997, F(w) = 7.2\n",
      "iteration 70: w = 0.7999999999999998, F(w) = 7.199999999999999\n",
      "iteration 71: w = 0.7999999999999999, F(w) = 7.2\n",
      "iteration 72: w = 0.7999999999999999, F(w) = 7.200000000000001\n",
      "iteration 73: w = 0.7999999999999999, F(w) = 7.200000000000001\n",
      "iteration 74: w = 0.7999999999999999, F(w) = 7.200000000000001\n",
      "iteration 75: w = 0.7999999999999999, F(w) = 7.200000000000001\n",
      "iteration 76: w = 0.7999999999999999, F(w) = 7.200000000000001\n",
      "iteration 77: w = 0.7999999999999999, F(w) = 7.200000000000001\n",
      "iteration 78: w = 0.7999999999999999, F(w) = 7.200000000000001\n",
      "iteration 79: w = 0.7999999999999999, F(w) = 7.200000000000001\n",
      "iteration 80: w = 0.7999999999999999, F(w) = 7.200000000000001\n",
      "iteration 81: w = 0.7999999999999999, F(w) = 7.200000000000001\n",
      "iteration 82: w = 0.7999999999999999, F(w) = 7.200000000000001\n",
      "iteration 83: w = 0.7999999999999999, F(w) = 7.200000000000001\n",
      "iteration 84: w = 0.7999999999999999, F(w) = 7.200000000000001\n",
      "iteration 85: w = 0.7999999999999999, F(w) = 7.200000000000001\n",
      "iteration 86: w = 0.7999999999999999, F(w) = 7.200000000000001\n",
      "iteration 87: w = 0.7999999999999999, F(w) = 7.200000000000001\n",
      "iteration 88: w = 0.7999999999999999, F(w) = 7.200000000000001\n",
      "iteration 89: w = 0.7999999999999999, F(w) = 7.200000000000001\n",
      "iteration 90: w = 0.7999999999999999, F(w) = 7.200000000000001\n",
      "iteration 91: w = 0.7999999999999999, F(w) = 7.200000000000001\n",
      "iteration 92: w = 0.7999999999999999, F(w) = 7.200000000000001\n",
      "iteration 93: w = 0.7999999999999999, F(w) = 7.200000000000001\n",
      "iteration 94: w = 0.7999999999999999, F(w) = 7.200000000000001\n",
      "iteration 95: w = 0.7999999999999999, F(w) = 7.200000000000001\n",
      "iteration 96: w = 0.7999999999999999, F(w) = 7.200000000000001\n",
      "iteration 97: w = 0.7999999999999999, F(w) = 7.200000000000001\n",
      "iteration 98: w = 0.7999999999999999, F(w) = 7.200000000000001\n",
      "iteration 99: w = 0.7999999999999999, F(w) = 7.200000000000001\n"
     ]
    }
   ],
   "source": [
    "w = 0\n",
    "eta = 0.01\n",
    "for t in range(100):\n",
    "    value = F(w)\n",
    "    gradient = dF(w)\n",
    "    w = w - eta * gradient\n",
    "    print('iteration {}: w = {}, F(w) = {}'.format(t, w, value))"
   ]
  },
  {
   "cell_type": "code",
   "execution_count": null,
   "metadata": {},
   "outputs": [],
   "source": []
  }
 ],
 "metadata": {
  "kernelspec": {
   "display_name": "Python 3",
   "language": "python",
   "name": "python3"
  },
  "language_info": {
   "codemirror_mode": {
    "name": "ipython",
    "version": 3
   },
   "file_extension": ".py",
   "mimetype": "text/x-python",
   "name": "python",
   "nbconvert_exporter": "python",
   "pygments_lexer": "ipython3",
   "version": "3.7.4"
  }
 },
 "nbformat": 4,
 "nbformat_minor": 2
}
