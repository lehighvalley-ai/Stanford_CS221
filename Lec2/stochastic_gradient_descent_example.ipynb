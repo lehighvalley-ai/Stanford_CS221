{
 "cells": [
  {
   "cell_type": "markdown",
   "metadata": {},
   "source": [
    "### Stochastic Gradient Descent Example\n",
    "SU CS221 Lecture 2 <br>"
   ]
  },
  {
   "cell_type": "code",
   "execution_count": 1,
   "metadata": {},
   "outputs": [],
   "source": [
    "import numpy as np"
   ]
  },
  {
   "cell_type": "markdown",
   "metadata": {},
   "source": [
    "### MODELING: what we want to compute"
   ]
  },
  {
   "cell_type": "code",
   "execution_count": 2,
   "metadata": {},
   "outputs": [],
   "source": [
    "#points = [(np.array([2]), 4), (np.array([4]), 2)]\n",
    "#d = 1"
   ]
  },
  {
   "cell_type": "markdown",
   "metadata": {},
   "source": [
    "Generate artificial data:"
   ]
  },
  {
   "cell_type": "code",
   "execution_count": 3,
   "metadata": {
    "scrolled": true
   },
   "outputs": [],
   "source": [
    "true_w = np.array([1, 2, 3, 4, 5])\n",
    "d = len(true_w)\n",
    "points = []\n",
    "for t in range(100000):\n",
    "    x = np.random.randn(d)\n",
    "    y = true_w.dot(x) + np.random.randn()\n",
    "    #print(x, y)\n",
    "    points.append((x, y))"
   ]
  },
  {
   "cell_type": "markdown",
   "metadata": {},
   "source": [
    "Finding the error "
   ]
  },
  {
   "cell_type": "code",
   "execution_count": 4,
   "metadata": {},
   "outputs": [],
   "source": [
    "def F(w):\n",
    "    return sum((w.dot(x) - y)**2 for x, y in points) / len(points)"
   ]
  },
  {
   "cell_type": "markdown",
   "metadata": {},
   "source": [
    "Find the derivative"
   ]
  },
  {
   "cell_type": "code",
   "execution_count": 5,
   "metadata": {},
   "outputs": [],
   "source": [
    "def dF(w):\n",
    "    return sum(2*(w.dot(x) - y) * x for x, y in points) / len(points)"
   ]
  },
  {
   "cell_type": "markdown",
   "metadata": {},
   "source": [
    "Stochastic"
   ]
  },
  {
   "cell_type": "code",
   "execution_count": 6,
   "metadata": {},
   "outputs": [],
   "source": [
    "def sF(w, i):\n",
    "    x, y = points[i]\n",
    "    return (w.dot(x) - y)**2"
   ]
  },
  {
   "cell_type": "markdown",
   "metadata": {},
   "source": [
    "Stochastic derivative"
   ]
  },
  {
   "cell_type": "code",
   "execution_count": 7,
   "metadata": {},
   "outputs": [],
   "source": [
    "def sdF(w, i):\n",
    "    x, y = points[i]\n",
    "    return 2*(w.dot(x) - y) * x"
   ]
  },
  {
   "cell_type": "markdown",
   "metadata": {},
   "source": [
    "###  Algorithms: how we compute it"
   ]
  },
  {
   "cell_type": "markdown",
   "metadata": {},
   "source": [
    "Gradient descent"
   ]
  },
  {
   "cell_type": "code",
   "execution_count": 8,
   "metadata": {},
   "outputs": [],
   "source": [
    "def gradientDescent(F, dF, d):\n",
    "    w = np.zeros(d)\n",
    "    eta = 0.01\n",
    "    for t in range(10):\n",
    "        value = F(w)\n",
    "        gradient = dF(w)\n",
    "        w = w - eta * gradient\n",
    "        print('iteration {}: w = {}, F(w) = {}'.format(t, w, value))"
   ]
  },
  {
   "cell_type": "code",
   "execution_count": 9,
   "metadata": {},
   "outputs": [],
   "source": [
    "def stochasticGradientDescent(sF, sdF, d, n):\n",
    "    w = np.zeros(d)\n",
    "    eta = 1\n",
    "    num_updates = 0\n",
    "    for t in range(10):\n",
    "        for i in range(n):\n",
    "            value = sF(w, i)\n",
    "            gradient = sdF(w, i)\n",
    "            num_updates += 1\n",
    "            eta = 1.0 / num_updates\n",
    "            w = w - eta * gradient\n",
    "        print('iteration {}: w = {}, F(w) = {}'.format(t, w, value))"
   ]
  },
  {
   "cell_type": "markdown",
   "metadata": {},
   "source": [
    "### Run Both"
   ]
  },
  {
   "cell_type": "code",
   "execution_count": 10,
   "metadata": {
    "scrolled": false
   },
   "outputs": [
    {
     "name": "stdout",
     "output_type": "stream",
     "text": [
      "iteration 0: w = [0.0202524  0.03998532 0.06075619 0.08035464 0.09976721], F(w) = 56.15304751870177\n",
      "iteration 1: w = [0.04009569 0.07917187 0.12028229 0.15909426 0.19754514], F(w) = 53.96414108203069\n",
      "iteration 2: w = [0.05953812 0.11757563 0.17860318 0.23625132 0.29337345], F(w) = 51.8621066946932\n",
      "iteration 3: w = [0.0785878  0.15521221 0.23574327 0.31185762 0.38729103], F(w) = 49.84349651607418\n",
      "iteration 4: w = [0.09725266 0.19209696 0.29172647 0.38594435 0.47933596], F(w) = 47.90499955042196\n",
      "iteration 5: w = [0.11554047 0.2282449  0.34657619 0.45854204 0.56954559], F(w) = 46.04343621529385\n",
      "iteration 6: w = [0.13345884 0.26367073 0.40031538 0.52968061 0.65795652], F(w) = 44.2557531255966\n",
      "iteration 7: w = [0.15101525 0.2983889  0.45296653 0.5993894  0.7446046 ], F(w) = 42.539018084662985\n",
      "iteration 8: w = [0.16821701 0.33241352 0.50455165 0.66769715 0.82952499], F(w) = 40.89041527414256\n",
      "iteration 9: w = [0.18507127 0.36575848 0.55509234 0.73463201 0.91275214], F(w) = 39.30724063481638\n"
     ]
    }
   ],
   "source": [
    "gradientDescent(F, dF, d)"
   ]
  },
  {
   "cell_type": "code",
   "execution_count": 11,
   "metadata": {},
   "outputs": [
    {
     "name": "stdout",
     "output_type": "stream",
     "text": [
      "iteration 0: w = [1.00130785 2.00255599 3.00128169 3.99806226 5.00656451], F(w) = 3.4495864570928174\n",
      "iteration 1: w = [1.00193773 2.00218344 3.00086679 3.99809992 5.00509063], F(w) = 3.44708952470551\n",
      "iteration 2: w = [1.00214698 2.00205977 3.00072903 3.99811294 5.004599  ], F(w) = 3.446265317592961\n",
      "iteration 3: w = [1.00225149 2.00199803 3.00066027 3.99811956 5.00435311], F(w) = 3.4458545939603655\n",
      "iteration 4: w = [1.00231416 2.00196101 3.00061907 3.99812357 5.00420554], F(w) = 3.445608570334771\n",
      "iteration 5: w = [1.00235594 2.00193635 3.00059162 3.99812626 5.00410715], F(w) = 3.445444715818224\n",
      "iteration 6: w = [1.00238577 2.00191874 3.00057202 3.99812819 5.00403687], F(w) = 3.4453277519702756\n",
      "iteration 7: w = [1.00240814 2.00190553 3.00055733 3.99812965 5.00398415], F(w) = 3.4452400683748414\n",
      "iteration 8: w = [1.00242554 2.00189527 3.0005459  3.99813078 5.00394315], F(w) = 3.4451718924013837\n",
      "iteration 9: w = [1.00243946 2.00188705 3.00053677 3.99813169 5.00391034], F(w) = 3.445117365220949\n"
     ]
    }
   ],
   "source": [
    "stochasticGradientDescent(sF, sdF, d, len(points))"
   ]
  }
 ],
 "metadata": {
  "kernelspec": {
   "display_name": "Python 3",
   "language": "python",
   "name": "python3"
  },
  "language_info": {
   "codemirror_mode": {
    "name": "ipython",
    "version": 3
   },
   "file_extension": ".py",
   "mimetype": "text/x-python",
   "name": "python",
   "nbconvert_exporter": "python",
   "pygments_lexer": "ipython3",
   "version": "3.7.4"
  }
 },
 "nbformat": 4,
 "nbformat_minor": 2
}
